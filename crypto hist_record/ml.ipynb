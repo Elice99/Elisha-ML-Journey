{
 "cells": [
  {
   "cell_type": "code",
   "execution_count": null,
   "id": "8b67874d",
   "metadata": {},
   "outputs": [],
   "source": [
    "import requests\n",
    "from pandas import json_normalize"
   ]
  },
  {
   "cell_type": "code",
   "execution_count": null,
   "id": "074dc57b",
   "metadata": {},
   "outputs": [],
   "source": [
    "url = 'https://cryptobubbles.net/backend/data/bubbles1000.usd.json'\n",
    "response = requests.get(url)\n",
    "print(response.json())"
   ]
  },
  {
   "cell_type": "code",
   "execution_count": null,
   "id": "dbca1f58",
   "metadata": {},
   "outputs": [],
   "source": [
    "data = response.json()\n",
    "df = pd.DataFrame(data)\n",
    "print(df.head())"
   ]
  }
 ],
 "metadata": {
  "language_info": {
   "name": "python"
  }
 },
 "nbformat": 4,
 "nbformat_minor": 5
}
