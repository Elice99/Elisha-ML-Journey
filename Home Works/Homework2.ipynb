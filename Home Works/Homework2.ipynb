{
 "cells": [
  {
   "cell_type": "code",
   "execution_count": 799,
   "id": "5fd99526",
   "metadata": {},
   "outputs": [],
   "source": [
    "import pandas as pd \n",
    "import numpy as np\n",
    "import matplotlib.pyplot as plt\n",
    "import seaborn as sns\n",
    "\n",
    "%matplotlib inline\n"
   ]
  },
  {
   "cell_type": "markdown",
   "id": "689b3bdb",
   "metadata": {},
   "source": [
    "Question 1\n",
    "There's one column with missing values. What is it?\n",
    "\n",
    "'engine_displacement'\n",
    "'horsepower'\n",
    "'vehicle_weight'\n",
    "'model_year'"
   ]
  },
  {
   "cell_type": "code",
   "execution_count": 800,
   "id": "5f0caf64",
   "metadata": {},
   "outputs": [
    {
     "data": {
      "text/plain": [
       "(9704, 11)"
      ]
     },
     "execution_count": 800,
     "metadata": {},
     "output_type": "execute_result"
    }
   ],
   "source": [
    "data = pd.read_csv('car_fuel_efficiency.csv')\n",
    "data.shape"
   ]
  },
  {
   "cell_type": "code",
   "execution_count": 801,
   "id": "504c72bc",
   "metadata": {},
   "outputs": [
    {
     "data": {
      "text/html": [
       "<div>\n",
       "<style scoped>\n",
       "    .dataframe tbody tr th:only-of-type {\n",
       "        vertical-align: middle;\n",
       "    }\n",
       "\n",
       "    .dataframe tbody tr th {\n",
       "        vertical-align: top;\n",
       "    }\n",
       "\n",
       "    .dataframe thead th {\n",
       "        text-align: right;\n",
       "    }\n",
       "</style>\n",
       "<table border=\"1\" class=\"dataframe\">\n",
       "  <thead>\n",
       "    <tr style=\"text-align: right;\">\n",
       "      <th></th>\n",
       "      <th>engine_displacement</th>\n",
       "      <th>horsepower</th>\n",
       "      <th>vehicle_weight</th>\n",
       "      <th>model_year</th>\n",
       "      <th>fuel_efficiency_mpg</th>\n",
       "    </tr>\n",
       "  </thead>\n",
       "  <tbody>\n",
       "    <tr>\n",
       "      <th>0</th>\n",
       "      <td>170</td>\n",
       "      <td>159.0</td>\n",
       "      <td>3413.433759</td>\n",
       "      <td>2003</td>\n",
       "      <td>13.231729</td>\n",
       "    </tr>\n",
       "    <tr>\n",
       "      <th>1</th>\n",
       "      <td>130</td>\n",
       "      <td>97.0</td>\n",
       "      <td>3149.664934</td>\n",
       "      <td>2007</td>\n",
       "      <td>13.688217</td>\n",
       "    </tr>\n",
       "    <tr>\n",
       "      <th>2</th>\n",
       "      <td>170</td>\n",
       "      <td>78.0</td>\n",
       "      <td>3079.038997</td>\n",
       "      <td>2018</td>\n",
       "      <td>14.246341</td>\n",
       "    </tr>\n",
       "    <tr>\n",
       "      <th>3</th>\n",
       "      <td>220</td>\n",
       "      <td>NaN</td>\n",
       "      <td>2542.392402</td>\n",
       "      <td>2009</td>\n",
       "      <td>16.912736</td>\n",
       "    </tr>\n",
       "    <tr>\n",
       "      <th>4</th>\n",
       "      <td>210</td>\n",
       "      <td>140.0</td>\n",
       "      <td>3460.870990</td>\n",
       "      <td>2009</td>\n",
       "      <td>12.488369</td>\n",
       "    </tr>\n",
       "    <tr>\n",
       "      <th>...</th>\n",
       "      <td>...</td>\n",
       "      <td>...</td>\n",
       "      <td>...</td>\n",
       "      <td>...</td>\n",
       "      <td>...</td>\n",
       "    </tr>\n",
       "    <tr>\n",
       "      <th>9699</th>\n",
       "      <td>140</td>\n",
       "      <td>164.0</td>\n",
       "      <td>2981.107371</td>\n",
       "      <td>2013</td>\n",
       "      <td>15.101802</td>\n",
       "    </tr>\n",
       "    <tr>\n",
       "      <th>9700</th>\n",
       "      <td>180</td>\n",
       "      <td>154.0</td>\n",
       "      <td>2439.525729</td>\n",
       "      <td>2004</td>\n",
       "      <td>17.962326</td>\n",
       "    </tr>\n",
       "    <tr>\n",
       "      <th>9701</th>\n",
       "      <td>220</td>\n",
       "      <td>138.0</td>\n",
       "      <td>2583.471318</td>\n",
       "      <td>2008</td>\n",
       "      <td>17.186587</td>\n",
       "    </tr>\n",
       "    <tr>\n",
       "      <th>9702</th>\n",
       "      <td>230</td>\n",
       "      <td>177.0</td>\n",
       "      <td>2905.527390</td>\n",
       "      <td>2011</td>\n",
       "      <td>15.331551</td>\n",
       "    </tr>\n",
       "    <tr>\n",
       "      <th>9703</th>\n",
       "      <td>270</td>\n",
       "      <td>140.0</td>\n",
       "      <td>2908.043477</td>\n",
       "      <td>2005</td>\n",
       "      <td>14.884467</td>\n",
       "    </tr>\n",
       "  </tbody>\n",
       "</table>\n",
       "<p>9704 rows × 5 columns</p>\n",
       "</div>"
      ],
      "text/plain": [
       "      engine_displacement  horsepower  vehicle_weight  model_year  \\\n",
       "0                     170       159.0     3413.433759        2003   \n",
       "1                     130        97.0     3149.664934        2007   \n",
       "2                     170        78.0     3079.038997        2018   \n",
       "3                     220         NaN     2542.392402        2009   \n",
       "4                     210       140.0     3460.870990        2009   \n",
       "...                   ...         ...             ...         ...   \n",
       "9699                  140       164.0     2981.107371        2013   \n",
       "9700                  180       154.0     2439.525729        2004   \n",
       "9701                  220       138.0     2583.471318        2008   \n",
       "9702                  230       177.0     2905.527390        2011   \n",
       "9703                  270       140.0     2908.043477        2005   \n",
       "\n",
       "      fuel_efficiency_mpg  \n",
       "0               13.231729  \n",
       "1               13.688217  \n",
       "2               14.246341  \n",
       "3               16.912736  \n",
       "4               12.488369  \n",
       "...                   ...  \n",
       "9699            15.101802  \n",
       "9700            17.962326  \n",
       "9701            17.186587  \n",
       "9702            15.331551  \n",
       "9703            14.884467  \n",
       "\n",
       "[9704 rows x 5 columns]"
      ]
     },
     "execution_count": 801,
     "metadata": {},
     "output_type": "execute_result"
    }
   ],
   "source": [
    "#Use only the following columns:\n",
    "cols=['engine_displacement', 'horsepower','vehicle_weight', 'model_year', 'fuel_efficiency_mpg']\n",
    "target = 'fuel_efficiency_mpg'\n",
    "df = data[cols]\n",
    "\n",
    "df"
   ]
  },
  {
   "cell_type": "markdown",
   "id": "889f3764",
   "metadata": {},
   "source": [
    "EDA"
   ]
  },
  {
   "cell_type": "code",
   "execution_count": 802,
   "id": "3e2e873e",
   "metadata": {},
   "outputs": [
    {
     "data": {
      "text/plain": [
       "<Axes: xlabel='fuel_efficiency_mpg', ylabel='Count'>"
      ]
     },
     "execution_count": 802,
     "metadata": {},
     "output_type": "execute_result"
    },
    {
     "data": {
      "image/png": "[encoded data removed]",
      "text/plain": [
       "<Figure size 640x480 with 1 Axes>"
      ]
     },
     "metadata": {},
     "output_type": "display_data"
    }
   ],
   "source": [
    "#Look at the fuel_efficiency_mpg variable. Does it have a long tail?\n",
    "sns.histplot(df.fuel_efficiency_mpg  , bins= 50) #it has a normal distribution"
   ]
  },
  {
   "cell_type": "code",
   "execution_count": 803,
   "id": "a38e55ea",
   "metadata": {},
   "outputs": [
    {
     "data": {
      "text/plain": [
       "engine_displacement      0\n",
       "horsepower             708\n",
       "vehicle_weight           0\n",
       "model_year               0\n",
       "fuel_efficiency_mpg      0\n",
       "dtype: int64"
      ]
     },
     "execution_count": 803,
     "metadata": {},
     "output_type": "execute_result"
    }
   ],
   "source": [
    "#There's one column with missing values. What is it?\n",
    "df.isnull().sum()"
   ]
  },
  {
   "cell_type": "markdown",
   "id": "6f53ba87",
   "metadata": {},
   "source": [
    "Question 2\n",
    "What's the median (50% percentile) for variable 'horsepower'"
   ]
  },
  {
   "cell_type": "code",
   "execution_count": 804,
   "id": "43a03ccb",
   "metadata": {},
   "outputs": [
    {
     "data": {
      "text/html": [
       "<div>\n",
       "<style scoped>\n",
       "    .dataframe tbody tr th:only-of-type {\n",
       "        vertical-align: middle;\n",
       "    }\n",
       "\n",
       "    .dataframe tbody tr th {\n",
       "        vertical-align: top;\n",
       "    }\n",
       "\n",
       "    .dataframe thead th {\n",
       "        text-align: right;\n",
       "    }\n",
       "</style>\n",
       "<table border=\"1\" class=\"dataframe\">\n",
       "  <thead>\n",
       "    <tr style=\"text-align: right;\">\n",
       "      <th></th>\n",
       "      <th>engine_displacement</th>\n",
       "      <th>horsepower</th>\n",
       "      <th>vehicle_weight</th>\n",
       "      <th>model_year</th>\n",
       "      <th>fuel_efficiency_mpg</th>\n",
       "    </tr>\n",
       "  </thead>\n",
       "  <tbody>\n",
       "    <tr>\n",
       "      <th>count</th>\n",
       "      <td>9704.000000</td>\n",
       "      <td>8996.000000</td>\n",
       "      <td>9704.000000</td>\n",
       "      <td>9704.000000</td>\n",
       "      <td>9704.000000</td>\n",
       "    </tr>\n",
       "    <tr>\n",
       "      <th>mean</th>\n",
       "      <td>199.708368</td>\n",
       "      <td>149.657292</td>\n",
       "      <td>3001.280993</td>\n",
       "      <td>2011.484027</td>\n",
       "      <td>14.985243</td>\n",
       "    </tr>\n",
       "    <tr>\n",
       "      <th>std</th>\n",
       "      <td>49.455319</td>\n",
       "      <td>29.879555</td>\n",
       "      <td>497.894860</td>\n",
       "      <td>6.659808</td>\n",
       "      <td>2.556468</td>\n",
       "    </tr>\n",
       "    <tr>\n",
       "      <th>min</th>\n",
       "      <td>10.000000</td>\n",
       "      <td>37.000000</td>\n",
       "      <td>952.681761</td>\n",
       "      <td>2000.000000</td>\n",
       "      <td>6.200971</td>\n",
       "    </tr>\n",
       "    <tr>\n",
       "      <th>25%</th>\n",
       "      <td>170.000000</td>\n",
       "      <td>130.000000</td>\n",
       "      <td>2666.248985</td>\n",
       "      <td>2006.000000</td>\n",
       "      <td>13.267459</td>\n",
       "    </tr>\n",
       "    <tr>\n",
       "      <th>50%</th>\n",
       "      <td>200.000000</td>\n",
       "      <td>149.000000</td>\n",
       "      <td>2993.226296</td>\n",
       "      <td>2012.000000</td>\n",
       "      <td>15.006037</td>\n",
       "    </tr>\n",
       "    <tr>\n",
       "      <th>75%</th>\n",
       "      <td>230.000000</td>\n",
       "      <td>170.000000</td>\n",
       "      <td>3334.957039</td>\n",
       "      <td>2017.000000</td>\n",
       "      <td>16.707965</td>\n",
       "    </tr>\n",
       "    <tr>\n",
       "      <th>max</th>\n",
       "      <td>380.000000</td>\n",
       "      <td>271.000000</td>\n",
       "      <td>4739.077089</td>\n",
       "      <td>2023.000000</td>\n",
       "      <td>25.967222</td>\n",
       "    </tr>\n",
       "  </tbody>\n",
       "</table>\n",
       "</div>"
      ],
      "text/plain": [
       "       engine_displacement   horsepower  vehicle_weight   model_year  \\\n",
       "count          9704.000000  8996.000000     9704.000000  9704.000000   \n",
       "mean            199.708368   149.657292     3001.280993  2011.484027   \n",
       "std              49.455319    29.879555      497.894860     6.659808   \n",
       "min              10.000000    37.000000      952.681761  2000.000000   \n",
       "25%             170.000000   130.000000     2666.248985  2006.000000   \n",
       "50%             200.000000   149.000000     2993.226296  2012.000000   \n",
       "75%             230.000000   170.000000     3334.957039  2017.000000   \n",
       "max             380.000000   271.000000     4739.077089  2023.000000   \n",
       "\n",
       "       fuel_efficiency_mpg  \n",
       "count          9704.000000  \n",
       "mean             14.985243  \n",
       "std               2.556468  \n",
       "min               6.200971  \n",
       "25%              13.267459  \n",
       "50%              15.006037  \n",
       "75%              16.707965  \n",
       "max              25.967222  "
      ]
     },
     "execution_count": 804,
     "metadata": {},
     "output_type": "execute_result"
    }
   ],
   "source": [
    "#What's the median (50% percentile) for variable 'horsepower'?\n",
    "df.describe() \n",
    "\n",
    "# Answer = 149.000000"
   ]
  },
  {
   "cell_type": "markdown",
   "id": "7bc9ef3a",
   "metadata": {},
   "source": [
    "Prepare and split the dataset\n",
    "\n",
    "Shuffle the dataset (the filtered one you created above), use seed 42.\n",
    "\n",
    "Split your data in train/val/test sets, with 60%/20%/20% distribution."
   ]
  },
  {
   "cell_type": "code",
   "execution_count": 805,
   "id": "61cc7b37",
   "metadata": {},
   "outputs": [],
   "source": [
    "#Shuffle the dataset (the filtered one you created above), use seed 42\n",
    "n = len(df)\n",
    "idx = np.arange(n) #create a number range of our dataset store as index\n",
    "np.random.seed(42) #this will lock the random shuffle, instead of geting random values every time u ran a code\n",
    "np.random.shuffle(idx)# shuffle the index we created"
   ]
  },
  {
   "cell_type": "code",
   "execution_count": 806,
   "id": "565aff78",
   "metadata": {},
   "outputs": [],
   "source": [
    "#Split your data in train/val/test sets, with 60%/20%/20% distribution\n",
    "\n",
    "n_val = int(n * 0.2)                #20% of data for validation\n",
    "n_test = int(n * 0.2)               #20% of data for testing.\n",
    "n_train = n - n_val - n_test        #whatever is left for training (about 60%)."
   ]
  },
  {
   "cell_type": "code",
   "execution_count": 807,
   "id": "4691cc0b",
   "metadata": {},
   "outputs": [],
   "source": [
    "df_train = df.iloc[: n_train ] #take rows from start (0) up to n_train (exclusive). That’s the first 60% of the dataset.\n",
    "df_val = df.iloc[n_train : n_train + n_val] #Starts at n_train (where training stopped).Goes up to n_train + n_val.That’s the next 20% of the dataset           \n",
    "df_test = df.iloc[n_train + n_val : ] #Starts where validation stopped (n_train + n_val). Goes until the end of the DataFrame.That’s the last 20% of the dataset \n",
    "     "
   ]
  },
  {
   "cell_type": "code",
   "execution_count": 808,
   "id": "4065074e",
   "metadata": {},
   "outputs": [],
   "source": [
    "features = ['engine_displacement', 'horsepower','vehicle_weight', 'model_year']\n",
    "target ='fuel_efficiency_mpg'"
   ]
  },
  {
   "cell_type": "code",
   "execution_count": 809,
   "id": "8918287e",
   "metadata": {},
   "outputs": [],
   "source": [
    "X_train = df_train[features].copy()\n",
    "y_train = df_train[target]\n",
    "\n",
    "X_val = df_val[features].copy()\n",
    "y_val = df_val[target]"
   ]
  },
  {
   "cell_type": "markdown",
   "id": "14f0043e",
   "metadata": {},
   "source": [
    "Question 3\n",
    "\n",
    "We need to deal with missing values for the column from Q1.\n",
    "We have two options: fill it with 0 or with the mean of this variable.\n",
    "Try both options. For each, train a linear regression model without regularization using the code from the lessons.\n",
    "For computing the mean, use the training only!\n",
    "Use the validation dataset to evaluate the models and compare the RMSE of each option.\n",
    "Round the RMSE scores to 2 decimal digits using round(score, 2)\n",
    "Which option gives better RMSE?\n",
    "\n",
    "\n",
    "\n",
    "OPTION 1: Fill missing with 0"
   ]
  },
  {
   "cell_type": "code",
   "execution_count": 810,
   "id": "5c5798ff",
   "metadata": {},
   "outputs": [],
   "source": [
    "def train_linear_regression(X, y):\n",
    "    pass"
   ]
  },
  {
   "cell_type": "code",
   "execution_count": 811,
   "id": "a9d2495d",
   "metadata": {},
   "outputs": [
    {
     "data": {
      "text/plain": [
       "array([[ 170.        ,  159.        , 3413.43375861, 2003.        ],\n",
       "       [ 130.        ,   97.        , 3149.66493422, 2007.        ],\n",
       "       [ 170.        ,   78.        , 3079.03899737, 2018.        ],\n",
       "       ...,\n",
       "       [ 210.        ,  171.        , 3434.25218007, 2011.        ],\n",
       "       [ 180.        ,  172.        , 2967.7088516 , 2018.        ],\n",
       "       [ 180.        ,  152.        , 2483.54452032, 2014.        ]],\n",
       "      shape=(5824, 4))"
      ]
     },
     "execution_count": 811,
     "metadata": {},
     "output_type": "execute_result"
    }
   ],
   "source": [
    "# We need to deal with missing values for the column from Q1\n",
    "# OPTION 1: Fill missing with 0\n",
    "\n",
    "X_train_0 = X_train.fillna(0).values\n",
    "X_val_0 = X_val.fillna(0).values\n",
    "\n",
    "\n",
    "X = X_train_0\n",
    "X"
   ]
  },
  {
   "cell_type": "code",
   "execution_count": 812,
   "id": "640d3965",
   "metadata": {},
   "outputs": [
    {
     "data": {
      "text/plain": [
       "(np.float64(28.261658910234715),\n",
       " array([ 9.11044797e-05,  3.50896580e-03, -5.01858541e-03,  6.36493013e-04]))"
      ]
     },
     "execution_count": 812,
     "metadata": {},
     "output_type": "execute_result"
    }
   ],
   "source": [
    "#Training data\n",
    "def train_linear_regression(X, y):\n",
    "    ones = np.ones(X.shape[0])  \n",
    "    X = np.column_stack([ones, X])\n",
    "    XTX = X.T.dot(X)\n",
    "    XTX_inv = np.linalg.inv(XTX)\n",
    "    w_full= XTX_inv.dot(X.T).dot(y)\n",
    "\n",
    "    return w_full[0], w_full[1:]\n",
    "\n",
    "\n",
    "train_linear_regression(X, y)"
   ]
  },
  {
   "cell_type": "markdown",
   "id": "24190872",
   "metadata": {},
   "source": [
    "Evaluation"
   ]
  },
  {
   "cell_type": "code",
   "execution_count": 813,
   "id": "5d4f96b5",
   "metadata": {},
   "outputs": [],
   "source": [
    "# validation data\n",
    "y_val = df_val['fuel_efficiency_mpg'].fillna(0).values\n",
    "X_val_0 = df_val[features].values\n",
    "\n",
    "\n",
    "w0, w = train_linear_regression(X_train_0, y_train)\n",
    "y_pred_0 = w0 + X_val.dot(w)"
   ]
  },
  {
   "cell_type": "markdown",
   "id": "be02b706",
   "metadata": {},
   "source": [
    "rsme"
   ]
  },
  {
   "cell_type": "code",
   "execution_count": 814,
   "id": "dae11e32",
   "metadata": {},
   "outputs": [
    {
     "data": {
      "text/plain": [
       "np.float64(0.5)"
      ]
     },
     "execution_count": 814,
     "metadata": {},
     "output_type": "execute_result"
    }
   ],
   "source": [
    "def rmse_0(y, y_pred_0): #root mean square error btw actual price and predicted price\n",
    "    error = y - y_pred_0 # the diff betwn actual price and pred\n",
    "    se = error ** 2 #square the diff\n",
    "    mse = se.mean() #find the avg of the squared diff\n",
    "    return np.sqrt(mse) # return the squareroot of the avg squared diff\n",
    "\n",
    "\n",
    "rmse_score = rmse_0(y_val, y_pred_0)\n",
    "round(rmse_score, 2)"
   ]
  },
  {
   "cell_type": "markdown",
   "id": "9fc6c2a0",
   "metadata": {},
   "source": [
    "OPTION 2: Fill missing with MEAN (from TRAIN only)"
   ]
  },
  {
   "cell_type": "code",
   "execution_count": 815,
   "id": "6ec978c3",
   "metadata": {},
   "outputs": [],
   "source": [
    "def train_linear_regression(X, y):\n",
    "    pass"
   ]
  },
  {
   "cell_type": "code",
   "execution_count": 816,
   "id": "db136ff1",
   "metadata": {},
   "outputs": [
    {
     "data": {
      "text/plain": [
       "array([[ 170.        ,  159.        , 3413.43375861, 2003.        ],\n",
       "       [ 130.        ,   97.        , 3149.66493422, 2007.        ],\n",
       "       [ 170.        ,   78.        , 3079.03899737, 2018.        ],\n",
       "       ...,\n",
       "       [ 210.        ,  171.        , 3434.25218007, 2011.        ],\n",
       "       [ 180.        ,  172.        , 2967.7088516 , 2018.        ],\n",
       "       [ 180.        ,  152.        , 2483.54452032, 2014.        ]],\n",
       "      shape=(5824, 4))"
      ]
     },
     "execution_count": 816,
     "metadata": {},
     "output_type": "execute_result"
    }
   ],
   "source": [
    "# OPTION 2: Fill missing with mean\n",
    "X_train_m = X_train.fillna(X_train.mean()).values\n",
    "X_val_m = X_train.fillna(X_train.mean()).values\n",
    "X = X_train_m\n",
    "X"
   ]
  },
  {
   "cell_type": "code",
   "execution_count": 817,
   "id": "38352e25",
   "metadata": {},
   "outputs": [
    {
     "data": {
      "text/plain": [
       "(np.float64(28.062372327469035),\n",
       " array([ 0.00018248,  0.01008237, -0.00500803,  0.00020222]))"
      ]
     },
     "execution_count": 817,
     "metadata": {},
     "output_type": "execute_result"
    }
   ],
   "source": [
    "# Training data\n",
    "\n",
    "def train_linear_regression(X, y):\n",
    "    ones = np.ones(X.shape[0])\n",
    "    X = np.column_stack([ones, X])\n",
    "    XTX = X.T.dot(X)\n",
    "    XTX_inv = np.linalg.inv(XTX)\n",
    "    w_full= XTX_inv.dot(X.T).dot(y)\n",
    "\n",
    "    return w_full[0], w_full[1:]\n",
    "\n",
    "\n",
    "train_linear_regression(X, y)"
   ]
  },
  {
   "cell_type": "markdown",
   "id": "c80df2ec",
   "metadata": {},
   "source": [
    "Evaluation"
   ]
  },
  {
   "cell_type": "code",
   "execution_count": 818,
   "id": "e5a1dc69",
   "metadata": {},
   "outputs": [],
   "source": [
    "# validation data\n",
    "y_val = df_val['fuel_efficiency_mpg'].fillna(0).values\n",
    "X_val_m = df_val[features].values\n",
    "\n",
    "\n",
    "w0, w = train_linear_regression(X_train_m, y_train)\n",
    "y_pred_m = w0 + X_val.dot(w)\n"
   ]
  },
  {
   "cell_type": "markdown",
   "id": "f10a5a50",
   "metadata": {},
   "source": [
    "RMSE"
   ]
  },
  {
   "cell_type": "code",
   "execution_count": 819,
   "id": "6e451fef",
   "metadata": {},
   "outputs": [
    {
     "data": {
      "text/plain": [
       "np.float64(0.45)"
      ]
     },
     "execution_count": 819,
     "metadata": {},
     "output_type": "execute_result"
    }
   ],
   "source": [
    "def rmse_m(y, y_pred): #root mean square error btw actual price and predicted price\n",
    "    error = y - y_pred # the diff betwn actual price and pred\n",
    "    se = error ** 2 #square the diff\n",
    "    mse = se.mean() #find the avg of the squared diff\n",
    "    return np.sqrt(mse) # return the squareroot of the avg squared diff\n",
    "\n",
    "\n",
    "rmse_score = rmse_m(y_val, y_pred_m)\n",
    "round(rmse_score, 2)"
   ]
  },
  {
   "cell_type": "markdown",
   "id": "d18ecf35",
   "metadata": {},
   "source": [
    "Question 4\n",
    "\n",
    "Now let's train a regularized linear regression.\n",
    "For this question, fill the NAs with 0.\n",
    "Try different values of r from this list: [0, 0.01, 0.1, 1, 5, 10, 100].\n",
    "Use RMSE to evaluate the model on the validation dataset.\n",
    "Round the RMSE scores to 2 decimal digits.\n",
    "Which r gives the best RMSE?\n",
    "If multiple options give the same best RMSE, select the smallest r"
   ]
  },
  {
   "cell_type": "code",
   "execution_count": 820,
   "id": "bb195074",
   "metadata": {},
   "outputs": [],
   "source": [
    "from sklearn.linear_model import Ridge, Lasso"
   ]
  },
  {
   "cell_type": "code",
   "execution_count": 821,
   "id": "cb7e8d64",
   "metadata": {},
   "outputs": [
    {
     "data": {
      "text/plain": [
       "array([[ 170.        ,  159.        , 3413.43375861, 2003.        ],\n",
       "       [ 130.        ,   97.        , 3149.66493422, 2007.        ],\n",
       "       [ 170.        ,   78.        , 3079.03899737, 2018.        ],\n",
       "       ...,\n",
       "       [ 210.        ,  171.        , 3434.25218007, 2011.        ],\n",
       "       [ 180.        ,  172.        , 2967.7088516 , 2018.        ],\n",
       "       [ 180.        ,  152.        , 2483.54452032, 2014.        ]],\n",
       "      shape=(5824, 4))"
      ]
     },
     "execution_count": 821,
     "metadata": {},
     "output_type": "execute_result"
    }
   ],
   "source": [
    "#For this question, fill the NAs with 0\n",
    "\n",
    "X_train_r = X_train.fillna(0).values\n",
    "X_val_r = X_val.fillna(0).values\n",
    "\n",
    "\n",
    "X = X_train_r\n",
    "X"
   ]
  },
  {
   "cell_type": "code",
   "execution_count": 822,
   "id": "eb82e021",
   "metadata": {},
   "outputs": [],
   "source": [
    "r_values= [0, 0.01, 0.1, 1, 5, 10, 100]"
   ]
  },
  {
   "cell_type": "markdown",
   "id": "524a5227",
   "metadata": {},
   "source": [
    "regularized linear regression RIDGE "
   ]
  },
  {
   "cell_type": "code",
   "execution_count": 823,
   "id": "66cf9a07",
   "metadata": {},
   "outputs": [
    {
     "data": {
      "text/plain": [
       "array([14.26996143, 12.9551989 , 11.05787674, ..., 14.06137082,\n",
       "        9.23119702, 21.19821448], shape=(1940,))"
      ]
     },
     "execution_count": 823,
     "metadata": {},
     "output_type": "execute_result"
    }
   ],
   "source": [
    "ridge = Ridge(alpha = 0.01) #alpha is the regularisation strength\n",
    "ridge.fit(X_train_r, y_train)\n",
    "y_pred_r = ridge.predict(X_val_r)\n",
    "\n",
    "y_pred_r"
   ]
  },
  {
   "cell_type": "code",
   "execution_count": 824,
   "id": "86d31750",
   "metadata": {},
   "outputs": [],
   "source": [
    "# validation data\n",
    "y_val = df_val['fuel_efficiency_mpg'].fillna(0).values\n",
    "X_val_r = df_val[features].values\n",
    "\n",
    "\n",
    "w0, w = train_linear_regression(X_train_r, y_train)\n",
    "y_pred_r = w0 + X_val.dot(w)"
   ]
  },
  {
   "cell_type": "code",
   "execution_count": 825,
   "id": "d655a292",
   "metadata": {},
   "outputs": [
    {
     "data": {
      "text/plain": [
       "np.float64(0.5)"
      ]
     },
     "execution_count": 825,
     "metadata": {},
     "output_type": "execute_result"
    }
   ],
   "source": [
    "def rmse_0(y, y_pred): #root mean square error btw actual price and predicted price\n",
    "    error = y - y_pred # the diff betwn actual price and pred\n",
    "    se = error ** 2 #square the diff\n",
    "    mse = se.mean() #find the avg of the squared diff\n",
    "    return np.sqrt(mse) # return the squareroot of the avg squared diff\n",
    "\n",
    "\n",
    "rmse_score = rmse_0(y_val, y_pred_r)\n",
    "round(rmse_score, 2)"
   ]
  },
  {
   "cell_type": "markdown",
   "id": "833849f4",
   "metadata": {},
   "source": [
    "Question 5\n",
    "\n",
    "We used seed 42 for splitting the data. Let's find out how selecting the seed influences our score.\n",
    "Try different seed values: [0, 1, 2, 3, 4, 5, 6, 7, 8, 9].\n",
    "For each seed, do the train/validation/test split with 60%/20%/20% distribution.\n",
    "Fill the missing values with 0 and train a model without regularization.\n",
    "For each seed, evaluate the model on the validation dataset and collect the RMSE scores.\n",
    "What's the standard deviation of all the scores? To compute the standard deviation, use np.std.\n",
    "Round the result to 3 decimal digits (round(std, 3))\n",
    "What's the value of std?"
   ]
  },
  {
   "cell_type": "code",
   "execution_count": 826,
   "id": "290c2d65",
   "metadata": {},
   "outputs": [],
   "source": [
    "# Create an empty list to store RMSE for each seed\n",
    "rmse_scores = []"
   ]
  },
  {
   "cell_type": "code",
   "execution_count": 827,
   "metadata": {},
   "outputs": [
    {
     "name": "stdout",
     "output_type": "stream",
     "text": [
      "RMSE scores: [np.float64(0.52), np.float64(0.52), np.float64(0.52), np.float64(0.52), np.float64(0.52), np.float64(0.52), np.float64(0.52), np.float64(0.52), np.float64(0.52), np.float64(0.52)]\n",
      "Standard deviation: 0.0\n"
     ]
    }
   ],
   "source": [
    "# Try different random seeds from 0 to 9\n",
    "for seed in range(10):\n",
    "    n_ = len(df)\n",
    "    idx = np.arange(n_)\n",
    "    np.random.seed(seed)\n",
    "    np.random.shuffle(idx)\n",
    "\n",
    "    n_val_ = int(n_ * 0.2)\n",
    "    n_test_ = int(n_ * 0.2)\n",
    "    n_train_ = n_ - n_val_ - n_test_\n",
    "    \n",
    "    df_train_ = df.iloc[:n_train_]\n",
    "    df_val_ = df.iloc[n_train_:n_train_ + n_val_]\n",
    "    df_test_ = df.iloc[n_train_ + n_val_:]\n",
    "    \n",
    "    features_ = ['engine_displacement', 'horsepower', 'vehicle_weight', 'model_year']\n",
    "    target_ = 'fuel_efficiency_mpg'\n",
    "    \n",
    "    X_train_ = df_train_[features_].copy()\n",
    "    y_train_ = df_train_[target_].copy()\n",
    "    X_val_ = df_val_[features_].copy()\n",
    "    y_val_ = df_val_[target_].copy()\n",
    "    \n",
    "        # Fill missing values with 0\n",
    "    X_train_ = X_train_.fillna(0).values\n",
    "    X_val_ = X_val_.fillna(0).values\n",
    "    y_train_ = y_train_.fillna(0).values\n",
    "    y_val_ = y_val_.fillna(0).values\n",
    "\n",
    "    # Train linear regression (no regularization)\n",
    "    def train_linear_regression_(X, y):\n",
    "        ones = np.ones(X.shape[0])\n",
    "        X = np.column_stack([ones, X])\n",
    "        XTX = X.T.dot(X)\n",
    "        XTX_inv = np.linalg.inv(XTX)\n",
    "        w_full = XTX_inv.dot(X.T).dot(y)\n",
    "        return w_full[0], w_full[1:]\n",
    "\n",
    "    \n",
    "    w0, w = train_linear_regression_(X_train_, y_train_)\n",
    "    \n",
    "        # Predict on validation set\n",
    "    ones = np.ones(X_val_.shape[0])\n",
    "    X_val_ext = np.column_stack([ones, X_val_])\n",
    "    y_pred_ = X_val_ext.dot(np.concatenate(([w0], w)))\n",
    "\n",
    "\n",
    "    # RMSE function\n",
    "    def rmse_(y, y_pred_):\n",
    "        error = y - y_pred_\n",
    "        se = error ** 2\n",
    "        mse = se.mean()\n",
    "        return np.sqrt(mse)\n",
    "\n",
    "\n",
    "    rmse_score = rmse_(y_val_, y_pred_)\n",
    "    rmse_scores.append(rmse_score)\n",
    "\n",
    "\n",
    "# After the loop — compute standard deviation of all RMSE scores\n",
    "std_ = np.std(rmse_scores)\n",
    "print(\"RMSE scores:\", [round(r, 2) for r in rmse_scores])\n",
    "print(\"Standard deviation:\", round(std_, 3))\n",
    "\n"
   ]
  },
  {
   "cell_type": "markdown",
   "id": "ee9659ed",
   "metadata": {},
   "source": [
    "Question 6\n",
    "\n",
    "Split the dataset like previously, use seed 9.\n",
    "Combine train and validation datasets.\n",
    "Fill the missing values with 0 and train a model with r=0.001.\n",
    "What's the RMSE on the test dataset?"
   ]
  },
  {
   "cell_type": "code",
   "execution_count": 828,
   "metadata": {},
   "outputs": [],
   "source": [
    "#Shuffle the dataset (the filtered one you created above), use seed 42\n",
    "n = len(df)\n",
    "idx = np.arange(n)\n",
    "np.random.seed(9) \n",
    "np.random.shuffle(idx)"
   ]
  },
  {
   "cell_type": "code",
   "execution_count": 829,
   "id": "7a3d4c94",
   "metadata": {},
   "outputs": [],
   "source": [
    "X_train_ = df_train_[features_].copy()\n",
    "y_train_ = df_train_[target_].copy()\n",
    "X_val_ = df_val_[features_].copy()\n",
    "y_val_ = df_val_[target_].copy()"
   ]
  },
  {
   "cell_type": "code",
   "execution_count": 830,
   "id": "d14eeb34",
   "metadata": {},
   "outputs": [],
   "source": [
    "# Fill missing values with 0\n",
    "X_train_ = X_train_.fillna(0).values\n",
    "X_val_ = X_val_.fillna(0).values\n",
    "y_train_ = y_train_.fillna(0).values\n",
    "y_val_ = y_val_.fillna(0).values"
   ]
  },
  {
   "cell_type": "code",
   "execution_count": 831,
   "metadata": {},
   "outputs": [],
   "source": [
    " # Train linear regression (no regularization)\n",
    "def train_linear_regression_(X, y):\n",
    "    ones = np.ones(X.shape[0])\n",
    "    X = np.column_stack([ones, X])\n",
    "    XTX = X.T.dot(X)\n",
    "    XTX_inv = np.linalg.inv(XTX)\n",
    "    w_full = XTX_inv.dot(X.T).dot(y)\n",
    "    return w_full[0], w_full[1:]"
   ]
  },
  {
   "cell_type": "code",
   "execution_count": 832,
   "metadata": {},
   "outputs": [
    {
     "data": {
      "text/plain": [
       "(np.float64(28.261658910234715),\n",
       " array([ 9.11044797e-05,  3.50896580e-03, -5.01858541e-03,  6.36493013e-04]))"
      ]
     },
     "execution_count": 832,
     "metadata": {},
     "output_type": "execute_result"
    }
   ],
   "source": [
    "train_linear_regression_(X_train_, y_train_)"
   ]
  },
  {
   "cell_type": "code",
   "execution_count": 833,
   "id": "37bb99a0",
   "metadata": {},
   "outputs": [
    {
     "data": {
      "text/plain": [
       "array([[ 170.        ,  159.        , 3413.43375861, 2003.        ],\n",
       "       [ 130.        ,   97.        , 3149.66493422, 2007.        ],\n",
       "       [ 170.        ,   78.        , 3079.03899737, 2018.        ],\n",
       "       ...,\n",
       "       [ 210.        ,  171.        , 3434.25218007, 2011.        ],\n",
       "       [ 180.        ,  172.        , 2967.7088516 , 2018.        ],\n",
       "       [ 180.        ,  152.        , 2483.54452032, 2014.        ]],\n",
       "      shape=(5824, 4))"
      ]
     },
     "execution_count": 833,
     "metadata": {},
     "output_type": "execute_result"
    }
   ],
   "source": [
    "X_train_ = X_train.fillna(0).values\n",
    "X_val_ = X_val.fillna(0).values\n",
    "\n",
    "\n",
    "X = X_train_\n",
    "X"
   ]
  },
  {
   "cell_type": "code",
   "execution_count": 834,
   "id": "f5b69030",
   "metadata": {},
   "outputs": [
    {
     "data": {
      "text/plain": [
       "array([14.26996143, 12.9551989 , 11.05787674, ..., 14.06137082,\n",
       "        9.23119702, 21.19821448], shape=(1940,))"
      ]
     },
     "execution_count": 834,
     "metadata": {},
     "output_type": "execute_result"
    }
   ],
   "source": [
    "ridge = Ridge(alpha = 0.001) #alpha is the regularisation strength\n",
    "ridge.fit(X_train_, y_train)\n",
    "y_pred_ = ridge.predict(X_val_)\n",
    "\n",
    "y_pred_"
   ]
  },
  {
   "cell_type": "code",
   "execution_count": 835,
   "metadata": {},
   "outputs": [],
   "source": [
    "     # Predict on validation set\n",
    "# validation data\n",
    "y_val_ = df_val['fuel_efficiency_mpg'].fillna(0).values\n",
    "X_val_ = df_val[features].values\n",
    "\n",
    "\n",
    "w0, w = train_linear_regression(X_train_, y_train)\n",
    "y_pred_ = w0 + X_val.dot(w)"
   ]
  },
  {
   "cell_type": "code",
   "execution_count": 836,
   "metadata": {},
   "outputs": [
    {
     "data": {
      "text/plain": [
       "np.float64(0.4956640440680746)"
      ]
     },
     "execution_count": 836,
     "metadata": {},
     "output_type": "execute_result"
    }
   ],
   "source": [
    "def rmse_(y, y_pred): \n",
    "    error = y - y_pred \n",
    "    se = error ** 2 \n",
    "    mse = se.mean() \n",
    "    return np.sqrt(mse) \n",
    "\n",
    "\n",
    "rmse_score = rmse_(y_val, y_pred_)\n",
    "rmse_score"
   ]
  }
 ],
 "metadata": {
  "kernelspec": {
   "display_name": "Python 3",
   "language": "python",
   "name": "python3"
  },
  "language_info": {
   "codemirror_mode": {
    "name": "ipython",
    "version": 3
   },
   "file_extension": ".py",
   "mimetype": "text/x-python",
   "name": "python",
   "nbconvert_exporter": "python",
   "pygments_lexer": "ipython3",
   "version": "3.13.1"
  }
 },
 "nbformat": 4,
 "nbformat_minor": 5
}
