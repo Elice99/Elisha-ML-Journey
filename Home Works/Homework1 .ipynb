{
 "cells": [
  {
   "cell_type": "code",
   "execution_count": 79,
   "id": "8a0b4e19",
   "metadata": {},
   "outputs": [
    {
     "data": {
      "text/plain": [
       "'2.2.3'"
      ]
     },
     "execution_count": 79,
     "metadata": {},
     "output_type": "execute_result"
    }
   ],
   "source": [
    "#Ques 1: my version of pandas\n",
    "import pandas as pd \n",
    "import numpy as np\n",
    "\n",
    "pd.__version__"
   ]
  },
  {
   "cell_type": "code",
   "execution_count": 80,
   "id": "63cbccea",
   "metadata": {},
   "outputs": [
    {
     "data": {
      "text/plain": [
       "(9704, 11)"
      ]
     },
     "execution_count": 80,
     "metadata": {},
     "output_type": "execute_result"
    }
   ],
   "source": [
    "#Ques 2:How many records arre in the datasets\n",
    "df = pd.read_csv('car_fuel_efficiency.csv')\n",
    "df.shape"
   ]
  },
  {
   "cell_type": "code",
   "execution_count": 81,
   "id": "bcbed6c9",
   "metadata": {},
   "outputs": [
    {
     "name": "stdout",
     "output_type": "stream",
     "text": [
      "['Gasoline' 'Diesel']\n"
     ]
    }
   ],
   "source": [
    "#Ques 3: how many fuel types are presented in the dataset?\n",
    "fuel_types = df['fuel_type'].unique()\n",
    "print(fuel_types)\n"
   ]
  },
  {
   "cell_type": "code",
   "execution_count": 82,
   "id": "0bd35ab5",
   "metadata": {},
   "outputs": [
    {
     "name": "stdout",
     "output_type": "stream",
     "text": [
      "number of col with missing value: 4\n"
     ]
    }
   ],
   "source": [
    "#Ques 4: How many columns in the dataset have missing values?\n",
    "missing_cols = df.isnull().sum()\n",
    "count_cols = (missing_cols > 0).sum()\n",
    "print(f'number of col with missing value: {count_cols}')\n"
   ]
  },
  {
   "cell_type": "code",
   "execution_count": 83,
   "id": "3f6558c4",
   "metadata": {},
   "outputs": [
    {
     "name": "stdout",
     "output_type": "stream",
     "text": [
      "max fuel efficiency for Asia Cars:  23.759122836520497\n"
     ]
    }
   ],
   "source": [
    "#Ques 6: Whats the Maximum fuel efficiency of cars from Asia\n",
    "Asia_cars = df[df['origin'] == 'Asia'] # All the info about Asia cars\n",
    "max_fuel_efficiency = Asia_cars['fuel_efficiency_mpg'].max() #for Asia cars\n",
    "print('max fuel efficiency for Asia Cars: ', max_fuel_efficiency )"
   ]
  },
  {
   "cell_type": "code",
   "execution_count": 84,
   "id": "95c90f09",
   "metadata": {},
   "outputs": [
    {
     "name": "stdout",
     "output_type": "stream",
     "text": [
      "Median HP:  149.0\n",
      "most_freq:  0    152.0\n",
      "Name: horsepower, dtype: float64\n",
      "after_fillna:  149.0\n"
     ]
    }
   ],
   "source": [
    "#Ques 6: Median value of horsepower\n",
    "median_HP = df['horsepower'].median() # Median value of HP in the dataset\n",
    "most_freq = df['horsepower'].mode() # most frequent value of the same HP column\n",
    "df1 = df['horsepower'].fillna(most_freq)# fill missing value in the HP col with the most freq value\n",
    "most_freq1 = df['horsepower'].median() # calculate median value once again\n",
    "print('Median HP: ', median_HP)\n",
    "print('most_freq: ', most_freq)\n",
    "print('after_fillna: ', most_freq1)"
   ]
  },
  {
   "cell_type": "code",
   "execution_count": 90,
   "id": "1b8c8e50",
   "metadata": {},
   "outputs": [
    {
     "name": "stdout",
     "output_type": "stream",
     "text": [
      "Sum of all element in w:  0.5187709081074016\n"
     ]
    }
   ],
   "source": [
    "#Ques 7: Sum of weights\n",
    "weight_model = Asia_cars[['vehicle_weight', 'model_year']] #selecting 2 cols from Asia cars\n",
    "top7 = weight_model.head(7)#select top 7 values by wieght\n",
    "x = top7.to_numpy()#  get the underlying numpy array as X\n",
    "xTx = x.T @ x   #compute matrix-matrix multiplication btw transpose of x and x. equvalent np.dot(x.T, x)\n",
    "invert_xTx =np.linalg.inv(xTx) #invert xTx\n",
    "y  = np.array([1100, 1300, 800, 900, 1000, 1100, 1200]) # create an array\n",
    "w = invert_xTx @ x.T @ y # multiplying the inverse_xTx with the transpose of x x.T and multiply result by y\n",
    "w_sum = w.sum()\n",
    "\n",
    "\n",
    "print('Sum of all element in w: ', w_sum)\n"
   ]
  }
 ],
 "metadata": {
  "kernelspec": {
   "display_name": "Python 3",
   "language": "python",
   "name": "python3"
  },
  "language_info": {
   "codemirror_mode": {
    "name": "ipython",
    "version": 3
   },
   "file_extension": ".py",
   "mimetype": "text/x-python",
   "name": "python",
   "nbconvert_exporter": "python",
   "pygments_lexer": "ipython3",
   "version": "3.13.1"
  }
 },
 "nbformat": 4,
 "nbformat_minor": 5
}
